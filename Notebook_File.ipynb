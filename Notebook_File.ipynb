{
 "cells": [
  {
   "cell_type": "code",
   "execution_count": 1,
   "id": "56d516a8",
   "metadata": {},
   "outputs": [
    {
     "name": "stderr",
     "output_type": "stream",
     "text": [
      "C:\\Users\\MirTanveer\\anaconda3\\envs\\tf\\lib\\site-packages\\numpy\\_distributor_init.py:32: UserWarning: loaded more than 1 DLL from .libs:\n",
      "C:\\Users\\MirTanveer\\anaconda3\\envs\\tf\\lib\\site-packages\\numpy\\.libs\\libopenblas.NOIJJG62EMASZI6NYURL6JBKM4EVBGM7.gfortran-win_amd64.dll\n",
      "C:\\Users\\MirTanveer\\anaconda3\\envs\\tf\\lib\\site-packages\\numpy\\.libs\\libopenblas.WCDJNK7YVMPZQ2ME2ZZHJJRJ3JIKNDB7.gfortran-win_amd64.dll\n",
      "  stacklevel=1)\n"
     ]
    }
   ],
   "source": [
    "import numpy as np\n",
    "import matplotlib.pyplot as plt\n",
    "import pandas as pd\n",
    "from sklearn.feature_selection import RFE\n",
    "from sklearn.model_selection import KFold\n",
    "from sklearn.model_selection import cross_val_score\n",
    "from sklearn.metrics import confusion_matrix, accuracy_score, balanced_accuracy_score\n",
    "from sklearn.metrics import matthews_corrcoef\n",
    "from sklearn.model_selection import KFold, RepeatedStratifiedKFold, StratifiedKFold\n",
    "from collections import Counter"
   ]
  },
  {
   "cell_type": "markdown",
   "id": "9d0571d0",
   "metadata": {},
   "source": [
    "# Import the ensemble model"
   ]
  },
  {
   "cell_type": "code",
   "execution_count": 2,
   "id": "d8eedb67",
   "metadata": {},
   "outputs": [],
   "source": [
    "import pickle\n",
    "ensemble_model = pickle.load(open('C:/Users/MirTanveer/Desktop/iTTCA/Trained_Models/Ensemble_Model.pkl', 'rb'))"
   ]
  },
  {
   "cell_type": "markdown",
   "id": "f5fbd97e",
   "metadata": {},
   "source": [
    "# Testing model on the independent dataset"
   ]
  },
  {
   "cell_type": "code",
   "execution_count": 3,
   "id": "6951e9c7",
   "metadata": {},
   "outputs": [],
   "source": [
    "ind_data=pd.read_csv(r\"C:/Users/MirTanveer/Desktop/iTTCA/Dataframe_/Optuna_PP_150_Testing.csv\")\n",
    "X_test = ind_data.iloc[:,1:-1].values\n",
    "y_test = ind_data.iloc[:,-1].values"
   ]
  },
  {
   "cell_type": "code",
   "execution_count": 4,
   "id": "73390777",
   "metadata": {},
   "outputs": [
    {
     "name": "stdout",
     "output_type": "stream",
     "text": [
      "Shape of X_test is : (197, 150)\n",
      "Shape of y_test is : (197,)\n"
     ]
    }
   ],
   "source": [
    "print('Shape of X_test is :', X_test.shape)\n",
    "print('Shape of y_test is :', y_test.shape)"
   ]
  },
  {
   "cell_type": "code",
   "execution_count": 5,
   "id": "d9d158db",
   "metadata": {},
   "outputs": [
    {
     "name": "stdout",
     "output_type": "stream",
     "text": [
      "Accuracy=   0.8020304568527918\n",
      "Sensitivity=  0.9098360655737705\n",
      "Specificity=  0.6266666666666667\n",
      "MCC Score=  0.5715590269005417\n",
      "Area Under Curve=  0.840983606557377\n"
     ]
    },
    {
     "data": {
      "image/png": "[encoded data removed]",
      "text/plain": [
       "<Figure size 432x288 with 2 Axes>"
      ]
     },
     "metadata": {
      "needs_background": "light"
     },
     "output_type": "display_data"
    }
   ],
   "source": [
    "# Evaluate Model on Ind data\n",
    "import matplotlib.pyplot as plt\n",
    "from sklearn import metrics\n",
    "from sklearn.metrics import confusion_matrix, ConfusionMatrixDisplay\n",
    "#Make predictions\n",
    "y_pred = ensemble_model.predict(X_test)\n",
    "#Confusion Matrix\n",
    "cm = metrics.confusion_matrix(y_test, y_pred)\n",
    "#Sn and Sp\n",
    "spec = cm[0,0]/(cm[0,1]+cm[0,0])\n",
    "sen= cm[1,1]/(cm[1,0]+cm[1,1])\n",
    "#Print\n",
    "print('Accuracy=  ', metrics.accuracy_score(y_test, y_pred))\n",
    "print('Sensitivity= ', sen)\n",
    "print('Specificity= ', spec)\n",
    "print('MCC Score= ', matthews_corrcoef(y_test, y_pred))\n",
    "print('Area Under Curve= ', metrics.roc_auc_score(y_test, ensemble_model.predict_proba(X_test)[:,1] ))\n",
    "#print('Confusion Matrix=\\n', metrics.confusion_matrix(y_test, y_pred))\n",
    "disp = ConfusionMatrixDisplay(confusion_matrix=cm)\n",
    "disp.plot()\n",
    "plt.show()"
   ]
  },
  {
   "cell_type": "markdown",
   "id": "754b6c5e",
   "metadata": {},
   "source": [
    "# Testing model on the new dataset (14 samples)"
   ]
  },
  {
   "cell_type": "code",
   "execution_count": 6,
   "id": "2cf68cfe",
   "metadata": {},
   "outputs": [],
   "source": [
    "new_data=pd.read_csv(r\"C:/Users/MirTanveer/Desktop/iTTCA/New_Val_Dataframe/Optuna_150PP_new_val _14.csv\")\n",
    "X_val = new_data.iloc[:,0:-1].values\n",
    "y_val = new_data.iloc[:,-1].values"
   ]
  },
  {
   "cell_type": "code",
   "execution_count": 7,
   "id": "3fea8462",
   "metadata": {},
   "outputs": [
    {
     "name": "stdout",
     "output_type": "stream",
     "text": [
      "Shape of X_val is : (14, 150)\n",
      "Shape of y_val is : (14,)\n"
     ]
    }
   ],
   "source": [
    "print('Shape of X_val is :', X_val.shape)\n",
    "print('Shape of y_val is :', y_val.shape)"
   ]
  },
  {
   "cell_type": "code",
   "execution_count": 8,
   "id": "7c787830",
   "metadata": {},
   "outputs": [
    {
     "name": "stdout",
     "output_type": "stream",
     "text": [
      "Accuracy=   0.7142857142857143\n",
      "Sensitivity=  0.8888888888888888\n",
      "Specificity=  0.4\n",
      "MCC Score=  0.3373495424699933\n",
      "Area Under Curve=  0.6444444444444444\n"
     ]
    },
    {
     "data": {
      "image/png": "[encoded data removed]",
      "text/plain": [
       "<Figure size 432x288 with 2 Axes>"
      ]
     },
     "metadata": {
      "needs_background": "light"
     },
     "output_type": "display_data"
    }
   ],
   "source": [
    "# Evaluate Model on New dataset\n",
    "import matplotlib.pyplot as plt\n",
    "from sklearn import metrics\n",
    "from sklearn.metrics import confusion_matrix, ConfusionMatrixDisplay\n",
    "#Make predictions\n",
    "y_pred = ensemble_model.predict(X_val)\n",
    "#Confusion Matrix\n",
    "cm = metrics.confusion_matrix(y_val, y_pred)\n",
    "#Sn and Sp\n",
    "spec = cm[0,0]/(cm[0,1]+cm[0,0])\n",
    "sen= cm[1,1]/(cm[1,0]+cm[1,1])\n",
    "#Print\n",
    "print('Accuracy=  ', metrics.accuracy_score(y_val, y_pred))\n",
    "print('Sensitivity= ', sen)\n",
    "print('Specificity= ', spec)\n",
    "print('MCC Score= ', matthews_corrcoef(y_val, y_pred))\n",
    "print('Area Under Curve= ', metrics.roc_auc_score(y_val, y_pred))\n",
    "#print('Confusion Matrix=\\n', metrics.confusion_matrix(y_test, y_pred))\n",
    "disp = ConfusionMatrixDisplay(confusion_matrix=cm)\n",
    "disp.plot()\n",
    "plt.show()"
   ]
  },
  {
   "cell_type": "code",
   "execution_count": null,
   "id": "c39a61ae",
   "metadata": {},
   "outputs": [],
   "source": []
  }
 ],
 "metadata": {
  "kernelspec": {
   "display_name": "Python 3",
   "language": "python",
   "name": "python3"
  },
  "language_info": {
   "codemirror_mode": {
    "name": "ipython",
    "version": 3
   },
   "file_extension": ".py",
   "mimetype": "text/x-python",
   "name": "python",
   "nbconvert_exporter": "python",
   "pygments_lexer": "ipython3",
   "version": "3.6.13"
  }
 },
 "nbformat": 4,
 "nbformat_minor": 5
}
